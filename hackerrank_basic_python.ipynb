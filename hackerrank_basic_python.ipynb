{
 "cells": [
  {
   "cell_type": "code",
   "execution_count": 1,
   "id": "6372048c",
   "metadata": {},
   "outputs": [
    {
     "name": "stdout",
     "output_type": "stream",
     "text": [
      "Hello,World!\n"
     ]
    }
   ],
   "source": [
    "print(\"Hello,World!\")"
   ]
  },
  {
   "cell_type": "code",
   "execution_count": 3,
   "id": "9ad9674f",
   "metadata": {},
   "outputs": [
    {
     "name": "stdout",
     "output_type": "stream",
     "text": [
      "19\n",
      "Weird\n"
     ]
    }
   ],
   "source": [
    "n=int(input())\n",
    "\n",
    "if (n%2!=0): \n",
    "    print (\"Weird\") \n",
    "elif (n>=2 and n<=5): \n",
    "    \n",
    "    print(\"Not Weird\") \n",
    "elif (n>=6 and n<=20): \n",
    "    print(\"Weird\") \n",
    "else: \n",
    "    print(\"Not Weird\")"
   ]
  },
  {
   "cell_type": "code",
   "execution_count": 2,
   "id": "26410679",
   "metadata": {},
   "outputs": [
    {
     "data": {
      "text/plain": [
       "(8, -2, 15)"
      ]
     },
     "execution_count": 2,
     "metadata": {},
     "output_type": "execute_result"
    }
   ],
   "source": [
    "def compute(a,b):\n",
    "    add=a+b\n",
    "    diff=a-b\n",
    "    product=a*b\n",
    "    return add,diff,product\n",
    "    \n",
    "    \n",
    "compute(3,5)"
   ]
  },
  {
   "cell_type": "code",
   "execution_count": null,
   "id": "bd6e9190",
   "metadata": {},
   "outputs": [],
   "source": []
  },
  {
   "cell_type": "code",
   "execution_count": 25,
   "id": "bcd58a1b",
   "metadata": {},
   "outputs": [
    {
     "name": "stdout",
     "output_type": "stream",
     "text": [
      "2020\n",
      "True\n"
     ]
    }
   ],
   "source": [
    "def is_leap(year): \n",
    "    if year % 4 == 0 and (year % 100 != 0 or year % 400 == 0): \n",
    "        return True \n",
    "    else: \n",
    "        return False\n",
    "\n",
    "year = int(input())\n",
    "print(is_leap(year))"
   ]
  },
  {
   "cell_type": "code",
   "execution_count": 32,
   "id": "3a86ce00",
   "metadata": {},
   "outputs": [
    {
     "name": "stdout",
     "output_type": "stream",
     "text": [
      "7\n",
      "1234567\n"
     ]
    }
   ],
   "source": [
    "n = int(input())\n",
    "\n",
    "print(*range(1, n+1),sep='')\n"
   ]
  },
  {
   "cell_type": "code",
   "execution_count": 1,
   "id": "01c5554e",
   "metadata": {},
   "outputs": [
    {
     "name": "stdout",
     "output_type": "stream",
     "text": [
      "3\n",
      "0\n",
      "1\n",
      "4\n"
     ]
    }
   ],
   "source": [
    "n = int(input())\n",
    "for i in range(0, n):\n",
    "     print(i**2)"
   ]
  },
  {
   "cell_type": "code",
   "execution_count": null,
   "id": "486be2aa",
   "metadata": {},
   "outputs": [],
   "source": []
  }
 ],
 "metadata": {
  "kernelspec": {
   "display_name": "Python 3 (ipykernel)",
   "language": "python",
   "name": "python3"
  },
  "language_info": {
   "codemirror_mode": {
    "name": "ipython",
    "version": 3
   },
   "file_extension": ".py",
   "mimetype": "text/x-python",
   "name": "python",
   "nbconvert_exporter": "python",
   "pygments_lexer": "ipython3",
   "version": "3.9.13"
  }
 },
 "nbformat": 4,
 "nbformat_minor": 5
}
